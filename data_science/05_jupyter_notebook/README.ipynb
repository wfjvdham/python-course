{
 "cells": [
  {
   "cell_type": "markdown",
   "metadata": {},
   "source": [
    "A presentable and reproducible way of organizing your python code. It contains blocks of code which can show an output and blocks of markdown text. You can start a notebook by typing `jupyter notebook` in a terminal."
   ]
  },
  {
   "cell_type": "markdown",
   "metadata": {},
   "source": [
    "# Notebook Editing\n",
    "\n",
    "When editing a jupyter notebook you can be in one of two modes:\n",
    "\n",
    "- Command Mode (press `Esc` to enable)\n",
    "- Edit Mode (press `Enter` to enable)\n",
    "\n",
    "Some useful shortcuts in Command Mode are:\n",
    "\n",
    "- `Ctrl` + `Enter`  run cell\n",
    "- `y` to code\n",
    "- `m` to markdown\n",
    "- `b` insert cell below\n",
    "- `d`, `d` delete selected cell"
   ]
  },
  {
   "cell_type": "markdown",
   "metadata": {},
   "source": [
    "# Markdown\n",
    "\n",
    "A lightweight text formatting syntax. Examples:\n",
    "\n",
    "## Heading 2\n",
    "\n",
    "### Heading 3\n",
    "\n",
    "**Bold** *Italic*\n",
    "\n",
    "$x^i$\n",
    "\n",
    "> Quotes can be displayed like this\n",
    "\n",
    "Unnumbered lists:\n",
    "\n",
    "- apple\n",
    "- banana\n",
    "- pear\n",
    "\n",
    "Numbered list\n",
    "\n",
    "1. Item 1\n",
    "1. Item 2\n",
    "1. Item 3\n",
    "\n",
    "__[link to google](http://www.google.com)__\n",
    "\n",
    "`code()`"
   ]
  },
  {
   "cell_type": "markdown",
   "metadata": {},
   "source": [
    "## Multiple output Trick\n",
    "\n",
    "The default behavior of jupyter notebook is that is only show the last output. If you want to see all the outputs from a cell you can run the following two lines of code:"
   ]
  },
  {
   "cell_type": "code",
   "execution_count": 1,
   "metadata": {},
   "outputs": [],
   "source": [
    "from IPython.core.interactiveshell import InteractiveShell\n",
    "InteractiveShell.ast_node_interactivity = \"all\""
   ]
  },
  {
   "cell_type": "code",
   "execution_count": 3,
   "metadata": {},
   "outputs": [
    {
     "data": {
      "text/plain": [
       "12"
      ]
     },
     "execution_count": 3,
     "metadata": {},
     "output_type": "execute_result"
    },
    {
     "data": {
      "text/plain": [
       "6"
      ]
     },
     "execution_count": 3,
     "metadata": {},
     "output_type": "execute_result"
    }
   ],
   "source": [
    "sum([3, 4, 5])\n",
    "sum([1, 2, 3])"
   ]
  },
  {
   "cell_type": "code",
   "execution_count": null,
   "metadata": {},
   "outputs": [],
   "source": []
  }
 ],
 "metadata": {
  "kernelspec": {
   "display_name": "Python 3",
   "language": "python",
   "name": "python3"
  },
  "language_info": {
   "codemirror_mode": {
    "name": "ipython",
    "version": 3
   },
   "file_extension": ".py",
   "mimetype": "text/x-python",
   "name": "python",
   "nbconvert_exporter": "python",
   "pygments_lexer": "ipython3",
   "version": "3.7.4"
  }
 },
 "nbformat": 4,
 "nbformat_minor": 2
}
